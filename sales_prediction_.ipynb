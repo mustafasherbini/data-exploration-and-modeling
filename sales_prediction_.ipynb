{
  "nbformat": 4,
  "nbformat_minor": 0,
  "metadata": {
    "colab": {
      "provenance": [],
      "authorship_tag": "ABX9TyOb35HfKWoU5Zu/kw+OWn4I",
      "include_colab_link": true
    },
    "kernelspec": {
      "name": "python3",
      "display_name": "Python 3"
    },
    "language_info": {
      "name": "python"
    }
  },
  "cells": [
    {
      "cell_type": "markdown",
      "metadata": {
        "id": "view-in-github",
        "colab_type": "text"
      },
      "source": [
        "<a href=\"https://colab.research.google.com/github/mustafasherbini/data-exploration-and-modeling/blob/main/sales_prediction_.ipynb\" target=\"_parent\"><img src=\"https://colab.research.google.com/assets/colab-badge.svg\" alt=\"Open In Colab\"/></a>"
      ]
    },
    {
      "cell_type": "markdown",
      "source": [
        "# Dataset Details\n",
        "\n",
        "![](https://i.imgur.com/WlgNuFs.png)"
      ],
      "metadata": {
        "id": "xXdzNJ7FrtLd"
      }
    },
    {
      "cell_type": "code",
      "execution_count": 1,
      "metadata": {
        "id": "AxE6WezGnwxx"
      },
      "outputs": [],
      "source": [
        "import numpy as np              # linear algebra\n",
        "import pandas as pd             # data processing, dataset file I/O (e.g. pd.read_csv)\n",
        "from sklearn.model_selection import train_test_split \n",
        "import seaborn as sns           # to visualize random distributions\n",
        "import matplotlib.pyplot as plt\n",
        "from sklearn import preprocessing\n",
        "from sklearn.preprocessing import LabelEncoder\n",
        "from sklearn.metrics import r2_score\n",
        "from scipy.stats.mstats import winsorize\n",
        "from sklearn.impute import SimpleImputer\n",
        "\n",
        "\n",
        "\n",
        "\n",
        "\n"
      ]
    },
    {
      "cell_type": "code",
      "source": [
        "!gdown --id 1xFDvCOLa_gu34CosX8kSCIqqhD-E2te8"
      ],
      "metadata": {
        "colab": {
          "base_uri": "https://localhost:8080/"
        },
        "id": "JShTVEuun1uy",
        "outputId": "b82a60d4-0a10-4921-883a-f294aa207a30"
      },
      "execution_count": 2,
      "outputs": [
        {
          "output_type": "stream",
          "name": "stdout",
          "text": [
            "/usr/local/lib/python3.10/dist-packages/gdown/cli.py:121: FutureWarning: Option `--id` was deprecated in version 4.3.1 and will be removed in 5.0. You don't need to pass it anymore to use a file ID.\n",
            "  warnings.warn(\n",
            "Downloading...\n",
            "From: https://drive.google.com/uc?id=1xFDvCOLa_gu34CosX8kSCIqqhD-E2te8\n",
            "To: /content/sales_prediction.csv\n",
            "100% 870k/870k [00:00<00:00, 120MB/s]\n"
          ]
        }
      ]
    },
    {
      "cell_type": "markdown",
      "source": [
        "**Data Preprocessing and Exploratory Data Analysis**"
      ],
      "metadata": {
        "id": "lPNkfgc3CtqJ"
      }
    },
    {
      "cell_type": "code",
      "source": [
        "df = pd.read_csv(\"sales_prediction.csv\")\n",
        "df.info()"
      ],
      "metadata": {
        "colab": {
          "base_uri": "https://localhost:8080/"
        },
        "id": "VfX5MPO4n4PJ",
        "outputId": "aad078bf-ed4f-453f-a5d9-d07f1c029aec"
      },
      "execution_count": 3,
      "outputs": [
        {
          "output_type": "stream",
          "name": "stdout",
          "text": [
            "<class 'pandas.core.frame.DataFrame'>\n",
            "RangeIndex: 8523 entries, 0 to 8522\n",
            "Data columns (total 12 columns):\n",
            " #   Column                     Non-Null Count  Dtype  \n",
            "---  ------                     --------------  -----  \n",
            " 0   Item_Identifier            8523 non-null   object \n",
            " 1   Item_Weight                7060 non-null   float64\n",
            " 2   Item_Fat_Content           8523 non-null   object \n",
            " 3   Item_Visibility            8523 non-null   float64\n",
            " 4   Item_Type                  8523 non-null   object \n",
            " 5   Item_MRP                   8523 non-null   float64\n",
            " 6   Outlet_Identifier          8523 non-null   object \n",
            " 7   Outlet_Establishment_Year  8523 non-null   int64  \n",
            " 8   Outlet_Size                6113 non-null   object \n",
            " 9   Outlet_Location_Type       8523 non-null   object \n",
            " 10  Outlet_Type                8523 non-null   object \n",
            " 11  Item_Outlet_Sales          8523 non-null   float64\n",
            "dtypes: float64(4), int64(1), object(7)\n",
            "memory usage: 799.2+ KB\n"
          ]
        }
      ]
    },
    {
      "cell_type": "code",
      "source": [
        "df.head()"
      ],
      "metadata": {
        "colab": {
          "base_uri": "https://localhost:8080/",
          "height": 357
        },
        "id": "Rd0jHQl5p8f2",
        "outputId": "333464bc-c276-4ebf-9416-6ee297da3f7b"
      },
      "execution_count": 4,
      "outputs": [
        {
          "output_type": "execute_result",
          "data": {
            "text/plain": [
              "  Item_Identifier  Item_Weight Item_Fat_Content  Item_Visibility  \\\n",
              "0           FDA15         9.30          Low Fat         0.016047   \n",
              "1           DRC01         5.92          Regular         0.019278   \n",
              "2           FDN15        17.50          Low Fat         0.016760   \n",
              "3           FDX07        19.20          Regular         0.000000   \n",
              "4           NCD19         8.93          Low Fat         0.000000   \n",
              "\n",
              "               Item_Type  Item_MRP Outlet_Identifier  \\\n",
              "0                  Dairy  249.8092            OUT049   \n",
              "1            Soft Drinks   48.2692            OUT018   \n",
              "2                   Meat  141.6180            OUT049   \n",
              "3  Fruits and Vegetables  182.0950            OUT010   \n",
              "4              Household   53.8614            OUT013   \n",
              "\n",
              "   Outlet_Establishment_Year Outlet_Size Outlet_Location_Type  \\\n",
              "0                       1999      Medium               Tier 1   \n",
              "1                       2009      Medium               Tier 3   \n",
              "2                       1999      Medium               Tier 1   \n",
              "3                       1998         NaN               Tier 3   \n",
              "4                       1987        High               Tier 3   \n",
              "\n",
              "         Outlet_Type  Item_Outlet_Sales  \n",
              "0  Supermarket Type1          3735.1380  \n",
              "1  Supermarket Type2           443.4228  \n",
              "2  Supermarket Type1          2097.2700  \n",
              "3      Grocery Store           732.3800  \n",
              "4  Supermarket Type1           994.7052  "
            ],
            "text/html": [
              "\n",
              "  <div id=\"df-c08caf52-2643-41e1-bc7b-6e997c30d254\">\n",
              "    <div class=\"colab-df-container\">\n",
              "      <div>\n",
              "<style scoped>\n",
              "    .dataframe tbody tr th:only-of-type {\n",
              "        vertical-align: middle;\n",
              "    }\n",
              "\n",
              "    .dataframe tbody tr th {\n",
              "        vertical-align: top;\n",
              "    }\n",
              "\n",
              "    .dataframe thead th {\n",
              "        text-align: right;\n",
              "    }\n",
              "</style>\n",
              "<table border=\"1\" class=\"dataframe\">\n",
              "  <thead>\n",
              "    <tr style=\"text-align: right;\">\n",
              "      <th></th>\n",
              "      <th>Item_Identifier</th>\n",
              "      <th>Item_Weight</th>\n",
              "      <th>Item_Fat_Content</th>\n",
              "      <th>Item_Visibility</th>\n",
              "      <th>Item_Type</th>\n",
              "      <th>Item_MRP</th>\n",
              "      <th>Outlet_Identifier</th>\n",
              "      <th>Outlet_Establishment_Year</th>\n",
              "      <th>Outlet_Size</th>\n",
              "      <th>Outlet_Location_Type</th>\n",
              "      <th>Outlet_Type</th>\n",
              "      <th>Item_Outlet_Sales</th>\n",
              "    </tr>\n",
              "  </thead>\n",
              "  <tbody>\n",
              "    <tr>\n",
              "      <th>0</th>\n",
              "      <td>FDA15</td>\n",
              "      <td>9.30</td>\n",
              "      <td>Low Fat</td>\n",
              "      <td>0.016047</td>\n",
              "      <td>Dairy</td>\n",
              "      <td>249.8092</td>\n",
              "      <td>OUT049</td>\n",
              "      <td>1999</td>\n",
              "      <td>Medium</td>\n",
              "      <td>Tier 1</td>\n",
              "      <td>Supermarket Type1</td>\n",
              "      <td>3735.1380</td>\n",
              "    </tr>\n",
              "    <tr>\n",
              "      <th>1</th>\n",
              "      <td>DRC01</td>\n",
              "      <td>5.92</td>\n",
              "      <td>Regular</td>\n",
              "      <td>0.019278</td>\n",
              "      <td>Soft Drinks</td>\n",
              "      <td>48.2692</td>\n",
              "      <td>OUT018</td>\n",
              "      <td>2009</td>\n",
              "      <td>Medium</td>\n",
              "      <td>Tier 3</td>\n",
              "      <td>Supermarket Type2</td>\n",
              "      <td>443.4228</td>\n",
              "    </tr>\n",
              "    <tr>\n",
              "      <th>2</th>\n",
              "      <td>FDN15</td>\n",
              "      <td>17.50</td>\n",
              "      <td>Low Fat</td>\n",
              "      <td>0.016760</td>\n",
              "      <td>Meat</td>\n",
              "      <td>141.6180</td>\n",
              "      <td>OUT049</td>\n",
              "      <td>1999</td>\n",
              "      <td>Medium</td>\n",
              "      <td>Tier 1</td>\n",
              "      <td>Supermarket Type1</td>\n",
              "      <td>2097.2700</td>\n",
              "    </tr>\n",
              "    <tr>\n",
              "      <th>3</th>\n",
              "      <td>FDX07</td>\n",
              "      <td>19.20</td>\n",
              "      <td>Regular</td>\n",
              "      <td>0.000000</td>\n",
              "      <td>Fruits and Vegetables</td>\n",
              "      <td>182.0950</td>\n",
              "      <td>OUT010</td>\n",
              "      <td>1998</td>\n",
              "      <td>NaN</td>\n",
              "      <td>Tier 3</td>\n",
              "      <td>Grocery Store</td>\n",
              "      <td>732.3800</td>\n",
              "    </tr>\n",
              "    <tr>\n",
              "      <th>4</th>\n",
              "      <td>NCD19</td>\n",
              "      <td>8.93</td>\n",
              "      <td>Low Fat</td>\n",
              "      <td>0.000000</td>\n",
              "      <td>Household</td>\n",
              "      <td>53.8614</td>\n",
              "      <td>OUT013</td>\n",
              "      <td>1987</td>\n",
              "      <td>High</td>\n",
              "      <td>Tier 3</td>\n",
              "      <td>Supermarket Type1</td>\n",
              "      <td>994.7052</td>\n",
              "    </tr>\n",
              "  </tbody>\n",
              "</table>\n",
              "</div>\n",
              "      <button class=\"colab-df-convert\" onclick=\"convertToInteractive('df-c08caf52-2643-41e1-bc7b-6e997c30d254')\"\n",
              "              title=\"Convert this dataframe to an interactive table.\"\n",
              "              style=\"display:none;\">\n",
              "        \n",
              "  <svg xmlns=\"http://www.w3.org/2000/svg\" height=\"24px\"viewBox=\"0 0 24 24\"\n",
              "       width=\"24px\">\n",
              "    <path d=\"M0 0h24v24H0V0z\" fill=\"none\"/>\n",
              "    <path d=\"M18.56 5.44l.94 2.06.94-2.06 2.06-.94-2.06-.94-.94-2.06-.94 2.06-2.06.94zm-11 1L8.5 8.5l.94-2.06 2.06-.94-2.06-.94L8.5 2.5l-.94 2.06-2.06.94zm10 10l.94 2.06.94-2.06 2.06-.94-2.06-.94-.94-2.06-.94 2.06-2.06.94z\"/><path d=\"M17.41 7.96l-1.37-1.37c-.4-.4-.92-.59-1.43-.59-.52 0-1.04.2-1.43.59L10.3 9.45l-7.72 7.72c-.78.78-.78 2.05 0 2.83L4 21.41c.39.39.9.59 1.41.59.51 0 1.02-.2 1.41-.59l7.78-7.78 2.81-2.81c.8-.78.8-2.07 0-2.86zM5.41 20L4 18.59l7.72-7.72 1.47 1.35L5.41 20z\"/>\n",
              "  </svg>\n",
              "      </button>\n",
              "      \n",
              "  <style>\n",
              "    .colab-df-container {\n",
              "      display:flex;\n",
              "      flex-wrap:wrap;\n",
              "      gap: 12px;\n",
              "    }\n",
              "\n",
              "    .colab-df-convert {\n",
              "      background-color: #E8F0FE;\n",
              "      border: none;\n",
              "      border-radius: 50%;\n",
              "      cursor: pointer;\n",
              "      display: none;\n",
              "      fill: #1967D2;\n",
              "      height: 32px;\n",
              "      padding: 0 0 0 0;\n",
              "      width: 32px;\n",
              "    }\n",
              "\n",
              "    .colab-df-convert:hover {\n",
              "      background-color: #E2EBFA;\n",
              "      box-shadow: 0px 1px 2px rgba(60, 64, 67, 0.3), 0px 1px 3px 1px rgba(60, 64, 67, 0.15);\n",
              "      fill: #174EA6;\n",
              "    }\n",
              "\n",
              "    [theme=dark] .colab-df-convert {\n",
              "      background-color: #3B4455;\n",
              "      fill: #D2E3FC;\n",
              "    }\n",
              "\n",
              "    [theme=dark] .colab-df-convert:hover {\n",
              "      background-color: #434B5C;\n",
              "      box-shadow: 0px 1px 3px 1px rgba(0, 0, 0, 0.15);\n",
              "      filter: drop-shadow(0px 1px 2px rgba(0, 0, 0, 0.3));\n",
              "      fill: #FFFFFF;\n",
              "    }\n",
              "  </style>\n",
              "\n",
              "      <script>\n",
              "        const buttonEl =\n",
              "          document.querySelector('#df-c08caf52-2643-41e1-bc7b-6e997c30d254 button.colab-df-convert');\n",
              "        buttonEl.style.display =\n",
              "          google.colab.kernel.accessAllowed ? 'block' : 'none';\n",
              "\n",
              "        async function convertToInteractive(key) {\n",
              "          const element = document.querySelector('#df-c08caf52-2643-41e1-bc7b-6e997c30d254');\n",
              "          const dataTable =\n",
              "            await google.colab.kernel.invokeFunction('convertToInteractive',\n",
              "                                                     [key], {});\n",
              "          if (!dataTable) return;\n",
              "\n",
              "          const docLinkHtml = 'Like what you see? Visit the ' +\n",
              "            '<a target=\"_blank\" href=https://colab.research.google.com/notebooks/data_table.ipynb>data table notebook</a>'\n",
              "            + ' to learn more about interactive tables.';\n",
              "          element.innerHTML = '';\n",
              "          dataTable['output_type'] = 'display_data';\n",
              "          await google.colab.output.renderOutput(dataTable, element);\n",
              "          const docLink = document.createElement('div');\n",
              "          docLink.innerHTML = docLinkHtml;\n",
              "          element.appendChild(docLink);\n",
              "        }\n",
              "      </script>\n",
              "    </div>\n",
              "  </div>\n",
              "  "
            ]
          },
          "metadata": {},
          "execution_count": 4
        }
      ]
    },
    {
      "cell_type": "code",
      "source": [
        "# add new coulmn for item category \n",
        "# from first two chars at tem_Identifier\t FD : food , DR : Drink , NC : Non Consumables\n",
        "df['Item_category'] = df['Item_Identifier'].str[:2]\n",
        "\n",
        "df['Item_category']=df['Item_category'].replace({\n",
        "                                              'FD' : 'Food', \n",
        "                                              'DR' : 'Drink',\n",
        "                                              'NC' : 'Non_Consumables',\n",
        "                                   })\n",
        "df['Item_category'].value_counts()\n",
        "\n"
      ],
      "metadata": {
        "colab": {
          "base_uri": "https://localhost:8080/"
        },
        "id": "b9SQtcC4veAS",
        "outputId": "f2b58933-8c78-4a2f-cf7f-f7e0d3c9e007"
      },
      "execution_count": 5,
      "outputs": [
        {
          "output_type": "execute_result",
          "data": {
            "text/plain": [
              "Food               6125\n",
              "Non_Consumables    1599\n",
              "Drink               799\n",
              "Name: Item_category, dtype: int64"
            ]
          },
          "metadata": {},
          "execution_count": 5
        }
      ]
    },
    {
      "cell_type": "code",
      "source": [
        "df.duplicated().sum()"
      ],
      "metadata": {
        "colab": {
          "base_uri": "https://localhost:8080/"
        },
        "id": "RhbMeNJkof-5",
        "outputId": "343845a6-1413-4a9b-a588-023cbb5d3502"
      },
      "execution_count": 6,
      "outputs": [
        {
          "output_type": "execute_result",
          "data": {
            "text/plain": [
              "0"
            ]
          },
          "metadata": {},
          "execution_count": 6
        }
      ]
    },
    {
      "cell_type": "code",
      "source": [
        "df.isnull().sum()   \n",
        "#have null in Item_Weight : problem A\n",
        "#have null in Outlet_Size  : problem B\n"
      ],
      "metadata": {
        "colab": {
          "base_uri": "https://localhost:8080/"
        },
        "id": "tqKMn6WNn96T",
        "outputId": "1e4cbdd1-6454-4a22-eb27-fb96b994109b"
      },
      "execution_count": 7,
      "outputs": [
        {
          "output_type": "execute_result",
          "data": {
            "text/plain": [
              "Item_Identifier                 0\n",
              "Item_Weight                  1463\n",
              "Item_Fat_Content                0\n",
              "Item_Visibility                 0\n",
              "Item_Type                       0\n",
              "Item_MRP                        0\n",
              "Outlet_Identifier               0\n",
              "Outlet_Establishment_Year       0\n",
              "Outlet_Size                  2410\n",
              "Outlet_Location_Type            0\n",
              "Outlet_Type                     0\n",
              "Item_Outlet_Sales               0\n",
              "Item_category                   0\n",
              "dtype: int64"
            ]
          },
          "metadata": {},
          "execution_count": 7
        }
      ]
    },
    {
      "cell_type": "code",
      "source": [
        "#solve problem A\n",
        "\n",
        "ITEM_ID_WEIGHT_PIVOT = df.pivot_table(values='Item_Weight', index='Item_Identifier').reset_index()\n",
        "ITEM_ID_WEIGHT_MAPPING = dict(zip(ITEM_ID_WEIGHT_PIVOT['Item_Identifier'],ITEM_ID_WEIGHT_PIVOT['Item_Weight']))\n",
        "df['Item_Weight'] = df['Item_Weight'].fillna(df['Item_Identifier'].map(ITEM_ID_WEIGHT_MAPPING))\n",
        "df.isnull().sum()   \n",
        "\n",
        "\n"
      ],
      "metadata": {
        "colab": {
          "base_uri": "https://localhost:8080/"
        },
        "id": "fDQsZTSI5MRd",
        "outputId": "9c758416-db40-4d45-cbd4-e16934db4d1c"
      },
      "execution_count": 8,
      "outputs": [
        {
          "output_type": "execute_result",
          "data": {
            "text/plain": [
              "Item_Identifier                 0\n",
              "Item_Weight                     4\n",
              "Item_Fat_Content                0\n",
              "Item_Visibility                 0\n",
              "Item_Type                       0\n",
              "Item_MRP                        0\n",
              "Outlet_Identifier               0\n",
              "Outlet_Establishment_Year       0\n",
              "Outlet_Size                  2410\n",
              "Outlet_Location_Type            0\n",
              "Outlet_Type                     0\n",
              "Item_Outlet_Sales               0\n",
              "Item_category                   0\n",
              "dtype: int64"
            ]
          },
          "metadata": {},
          "execution_count": 8
        }
      ]
    },
    {
      "cell_type": "code",
      "source": [
        "#sovle problem A\n",
        "df = df.dropna(subset=['Item_Weight'])\n",
        "df.isnull().sum()   \n",
        "# problem A is solved\n"
      ],
      "metadata": {
        "colab": {
          "base_uri": "https://localhost:8080/"
        },
        "id": "o2hqkn76CSyr",
        "outputId": "1cc376ad-5307-4d69-aced-1c615900d92e"
      },
      "execution_count": 9,
      "outputs": [
        {
          "output_type": "execute_result",
          "data": {
            "text/plain": [
              "Item_Identifier                 0\n",
              "Item_Weight                     0\n",
              "Item_Fat_Content                0\n",
              "Item_Visibility                 0\n",
              "Item_Type                       0\n",
              "Item_MRP                        0\n",
              "Outlet_Identifier               0\n",
              "Outlet_Establishment_Year       0\n",
              "Outlet_Size                  2410\n",
              "Outlet_Location_Type            0\n",
              "Outlet_Type                     0\n",
              "Item_Outlet_Sales               0\n",
              "Item_category                   0\n",
              "dtype: int64"
            ]
          },
          "metadata": {},
          "execution_count": 9
        }
      ]
    },
    {
      "cell_type": "code",
      "source": [
        "df.groupby(by=['Outlet_Type', 'Outlet_Size']).size()\n",
        "\n"
      ],
      "metadata": {
        "colab": {
          "base_uri": "https://localhost:8080/"
        },
        "id": "lR1kzkVaD1MZ",
        "outputId": "6be64437-308f-412f-8fd2-1836c41b759a"
      },
      "execution_count": 10,
      "outputs": [
        {
          "output_type": "execute_result",
          "data": {
            "text/plain": [
              "Outlet_Type        Outlet_Size\n",
              "Grocery Store      Small           527\n",
              "Supermarket Type1  High            932\n",
              "                   Medium          930\n",
              "                   Small          1860\n",
              "Supermarket Type2  Medium          928\n",
              "Supermarket Type3  Medium          932\n",
              "dtype: int64"
            ]
          },
          "metadata": {},
          "execution_count": 10
        }
      ]
    },
    {
      "cell_type": "code",
      "source": [
        "#solve problem B\n",
        "outsize = {'Grocery Store': 'Small', 'Supermarket Type1': 'Small', 'Supermarket Type2': 'Medium', 'Supermarket Type3' : 'Medium'} #take the most frequncy of each type\n",
        "df['Outlet_Size'] = df['Outlet_Size'].fillna(df['Outlet_Type'].map(outsize))\n",
        "df.isnull().sum()   \n"
      ],
      "metadata": {
        "colab": {
          "base_uri": "https://localhost:8080/"
        },
        "id": "8Jaczd4zMCuj",
        "outputId": "0578083e-674c-4486-abd7-d2a1e3a774f1"
      },
      "execution_count": 11,
      "outputs": [
        {
          "output_type": "stream",
          "name": "stderr",
          "text": [
            "<ipython-input-11-78a750da2d9e>:3: SettingWithCopyWarning: \n",
            "A value is trying to be set on a copy of a slice from a DataFrame.\n",
            "Try using .loc[row_indexer,col_indexer] = value instead\n",
            "\n",
            "See the caveats in the documentation: https://pandas.pydata.org/pandas-docs/stable/user_guide/indexing.html#returning-a-view-versus-a-copy\n",
            "  df['Outlet_Size'] = df['Outlet_Size'].fillna(df['Outlet_Type'].map(outsize))\n"
          ]
        },
        {
          "output_type": "execute_result",
          "data": {
            "text/plain": [
              "Item_Identifier              0\n",
              "Item_Weight                  0\n",
              "Item_Fat_Content             0\n",
              "Item_Visibility              0\n",
              "Item_Type                    0\n",
              "Item_MRP                     0\n",
              "Outlet_Identifier            0\n",
              "Outlet_Establishment_Year    0\n",
              "Outlet_Size                  0\n",
              "Outlet_Location_Type         0\n",
              "Outlet_Type                  0\n",
              "Item_Outlet_Sales            0\n",
              "Item_category                0\n",
              "dtype: int64"
            ]
          },
          "metadata": {},
          "execution_count": 11
        }
      ]
    },
    {
      "cell_type": "code",
      "source": [
        "df['Item_Fat_Content'].value_counts()\n",
        " #have duplicated Fat_Content type with the same meaning : problem C\n",
        "# No type for Non Edible products : problem D\n"
      ],
      "metadata": {
        "colab": {
          "base_uri": "https://localhost:8080/"
        },
        "id": "0hha24NzpTM2",
        "outputId": "4734f407-863e-4dc3-c708-90c46945237e"
      },
      "execution_count": 12,
      "outputs": [
        {
          "output_type": "execute_result",
          "data": {
            "text/plain": [
              "Low Fat    5088\n",
              "Regular    2886\n",
              "LF          316\n",
              "reg         117\n",
              "low fat     112\n",
              "Name: Item_Fat_Content, dtype: int64"
            ]
          },
          "metadata": {},
          "execution_count": 12
        }
      ]
    },
    {
      "cell_type": "code",
      "source": [
        "# solve problem C\n",
        "df['Item_Fat_Content']=df['Item_Fat_Content'].replace({\n",
        "                                              'Low Fat' : 'Low_Fat', \n",
        "                                              'LF' : 'Low_Fat',\n",
        "                                              'reg' : 'Regular',\n",
        "                                              'low fat' : 'Low_Fat' \n",
        "                                   })\n",
        "df['Item_Fat_Content'].value_counts() #problem c is solved"
      ],
      "metadata": {
        "colab": {
          "base_uri": "https://localhost:8080/"
        },
        "id": "aOIBpO-rq8od",
        "outputId": "5a5c9e2e-3c6e-4ca1-a7e8-4c6cd905b7c6"
      },
      "execution_count": 13,
      "outputs": [
        {
          "output_type": "stream",
          "name": "stderr",
          "text": [
            "<ipython-input-13-e3171e968f35>:2: SettingWithCopyWarning: \n",
            "A value is trying to be set on a copy of a slice from a DataFrame.\n",
            "Try using .loc[row_indexer,col_indexer] = value instead\n",
            "\n",
            "See the caveats in the documentation: https://pandas.pydata.org/pandas-docs/stable/user_guide/indexing.html#returning-a-view-versus-a-copy\n",
            "  df['Item_Fat_Content']=df['Item_Fat_Content'].replace({\n"
          ]
        },
        {
          "output_type": "execute_result",
          "data": {
            "text/plain": [
              "Low_Fat    5516\n",
              "Regular    3003\n",
              "Name: Item_Fat_Content, dtype: int64"
            ]
          },
          "metadata": {},
          "execution_count": 13
        }
      ]
    },
    {
      "cell_type": "code",
      "source": [
        "# solve problem D\n",
        "df.loc[df['Item_category']== 'Non_Consumables','Item_Fat_Content'] ='Non_Edible'\n",
        "df['Item_Fat_Content'].value_counts() #problem D is solved"
      ],
      "metadata": {
        "colab": {
          "base_uri": "https://localhost:8080/"
        },
        "id": "WNzbM2LupvTu",
        "outputId": "8c305ca9-31da-4dfc-9242-c5f5056ca922"
      },
      "execution_count": 14,
      "outputs": [
        {
          "output_type": "execute_result",
          "data": {
            "text/plain": [
              "Low_Fat       3917\n",
              "Regular       3003\n",
              "Non_Edible    1599\n",
              "Name: Item_Fat_Content, dtype: int64"
            ]
          },
          "metadata": {},
          "execution_count": 14
        }
      ]
    },
    {
      "cell_type": "code",
      "source": [
        "#  supermarket type 1 is the most frequancy in our data\n",
        "df['Outlet_Type'].value_counts().plot(kind=\"pie\", autopct=\"%.2f\")\n",
        "plt.show()\n",
        "\n"
      ],
      "metadata": {
        "colab": {
          "base_uri": "https://localhost:8080/",
          "height": 406
        },
        "id": "4vxyjFRzPNRX",
        "outputId": "da17c7c8-5fd6-4916-dbde-891b14903921"
      },
      "execution_count": 15,
      "outputs": [
        {
          "output_type": "display_data",
          "data": {
            "text/plain": [
              "<Figure size 640x480 with 1 Axes>"
            ],
            "image/png": "[encoded data removed]"
          },
          "metadata": {}
        }
      ]
    },
    {
      "cell_type": "code",
      "source": [
        "#  food is the most frequancy in our data\n",
        "\n",
        "df['Item_category'].value_counts().plot(kind=\"pie\", autopct=\"%.2f\")\n",
        "plt.show()\n"
      ],
      "metadata": {
        "colab": {
          "base_uri": "https://localhost:8080/",
          "height": 406
        },
        "id": "VXPW69IWQFHd",
        "outputId": "2d48f953-e949-438d-a0a0-8523358071b9"
      },
      "execution_count": 16,
      "outputs": [
        {
          "output_type": "display_data",
          "data": {
            "text/plain": [
              "<Figure size 640x480 with 1 Axes>"
            ],
            "image/png": "[encoded data removed]"
          },
          "metadata": {}
        }
      ]
    },
    {
      "cell_type": "code",
      "source": [
        "# handel categorical \n",
        "\n",
        "\n",
        "\n",
        "\n",
        "\n",
        "  \n",
        "# Select only the numerical columns\n",
        "num_cols = df.select_dtypes(include=['int64', 'float64']).columns\n",
        "\n",
        "\n",
        "\n",
        "\n",
        "#  lable encoding\n",
        "le = LabelEncoder()\n",
        "obj_cols = df.select_dtypes(include=['object'])\n",
        "\n",
        "\n",
        "\n",
        "for i in obj_cols:\n",
        "  df[i]=le.fit_transform(df[i])\n",
        "\n",
        "df=(df-df.mean())/df.std()   #rescaling for all data\n",
        "\n",
        "\n",
        "# Winsorize the numerical columns\n",
        "df[num_cols] = df[num_cols].apply(lambda x: winsorize(x, limits=[0.05, 0.05]))\n",
        "\n",
        "\n"
      ],
      "metadata": {
        "id": "udYlzFM61ceK"
      },
      "execution_count": 17,
      "outputs": []
    },
    {
      "cell_type": "markdown",
      "source": [
        "\n",
        "\n",
        "Modling\n",
        "\n"
      ],
      "metadata": {
        "id": "BJTkAqoQC4OE"
      }
    },
    {
      "cell_type": "code",
      "source": [
        "plt.figure(figsize=(8, 12))\n",
        "heatmap = sns.heatmap(df.corr()[['Item_Outlet_Sales']].sort_values(by='Item_Outlet_Sales', ascending=False), vmin=-1, vmax=1, annot=True, cmap='BrBG')\n",
        "# from heatmap correlation there are alot of feature we are going to drip"
      ],
      "metadata": {
        "id": "jH9Ve4re0RNf",
        "colab": {
          "base_uri": "https://localhost:8080/",
          "height": 990
        },
        "outputId": "42f5ec94-d961-4294-b123-18244cfb1551"
      },
      "execution_count": 18,
      "outputs": [
        {
          "output_type": "display_data",
          "data": {
            "text/plain": [
              "<Figure size 800x1200 with 2 Axes>"
            ],
            "image/png": "[encoded data removed]"
          },
          "metadata": {}
        }
      ]
    },
    {
      "cell_type": "code",
      "source": [
        "df.info()"
      ],
      "metadata": {
        "colab": {
          "base_uri": "https://localhost:8080/"
        },
        "id": "km3yNv042wIl",
        "outputId": "c0b52e00-eeb8-404c-8e67-a2d63d9a83aa"
      },
      "execution_count": 19,
      "outputs": [
        {
          "output_type": "stream",
          "name": "stdout",
          "text": [
            "<class 'pandas.core.frame.DataFrame'>\n",
            "Int64Index: 8519 entries, 0 to 8522\n",
            "Data columns (total 13 columns):\n",
            " #   Column                     Non-Null Count  Dtype  \n",
            "---  ------                     --------------  -----  \n",
            " 0   Item_Identifier            8519 non-null   float64\n",
            " 1   Item_Weight                8519 non-null   float64\n",
            " 2   Item_Fat_Content           8519 non-null   float64\n",
            " 3   Item_Visibility            8519 non-null   float64\n",
            " 4   Item_Type                  8519 non-null   float64\n",
            " 5   Item_MRP                   8519 non-null   float64\n",
            " 6   Outlet_Identifier          8519 non-null   float64\n",
            " 7   Outlet_Establishment_Year  8519 non-null   float64\n",
            " 8   Outlet_Size                8519 non-null   float64\n",
            " 9   Outlet_Location_Type       8519 non-null   float64\n",
            " 10  Outlet_Type                8519 non-null   float64\n",
            " 11  Item_Outlet_Sales          8519 non-null   float64\n",
            " 12  Item_category              8519 non-null   float64\n",
            "dtypes: float64(13)\n",
            "memory usage: 931.8 KB\n"
          ]
        }
      ]
    },
    {
      "cell_type": "code",
      "source": [
        "\n",
        "# Show the plot    \n",
        "plt.figure(figsize=(10, 10))\n",
        "sns.boxplot(data=df)\n",
        "\n",
        "\n",
        "columns_to_keep = ['Item_MRP','Item_Outlet_Sales','Outlet_Type','Outlet_Size','Item_Visibility','Outlet_Identifier']\n",
        "df = df[columns_to_keep]\n",
        "\n",
        "# df = pd.get_dummies(df, columns=['Outlet_Size','Outlet_Identifier','Outlet_Type'])\n",
        "\n",
        "df = pd.get_dummies(df, columns=['Outlet_Type','Outlet_Size','Outlet_Identifier'])\n",
        "\n",
        "\n",
        "X = df.drop('Item_Outlet_Sales', axis=1)\n",
        "y = df['Item_Outlet_Sales']\n",
        "\n"
      ],
      "metadata": {
        "id": "muJFCYjccQtR",
        "colab": {
          "base_uri": "https://localhost:8080/",
          "height": 830
        },
        "outputId": "6b8eac7c-6ea4-457a-8000-dd53ac84c24f"
      },
      "execution_count": 20,
      "outputs": [
        {
          "output_type": "display_data",
          "data": {
            "text/plain": [
              "<Figure size 1000x1000 with 1 Axes>"
            ],
            "image/png": "[encoded data removed]"
          },
          "metadata": {}
        }
      ]
    },
    {
      "cell_type": "code",
      "source": [
        "X_train, X_test, y_train, y_test = train_test_split(X, y, test_size=0.2, random_state=42)\n",
        "\n",
        "# Convert X and y to arrays and reshape y\n",
        "X_train = np.array(X_train)\n",
        "X_test = np.array(X_test)\n",
        "y_train = np.array(y_train).reshape(-1, 1)\n",
        "y_test = np.array(y_test).reshape(-1, 1)\n",
        "\n",
        "print(y_test.shape)\n",
        "\n",
        "# Add a column of ones to the input data for the intercept term\n",
        "X_train = np.concatenate([np.ones((X_train.shape[0], 1)), X_train], axis=1)\n",
        "X_test = np.concatenate([np.ones((X_test.shape[0], 1)), X_test], axis=1)\n",
        "\n",
        "# Initialize theta\n",
        "theta = np.zeros((X_train.shape[1], 1))\n",
        "\n",
        "# Define the cost function\n",
        "def compute_cost(X, y, theta):  \n",
        "  m = len(y)\n",
        "  J = (1/(2*m)) * np.sum(np.square(X.dot(theta) - y))\n",
        "  return J\n",
        "\n",
        "#J(theta) = (1/2m) * Sum from i=1 to m of (h(theta)(x^(i)) - y^(i))^2\n",
        "\n",
        "# The expression (1/(2*m)) * np.sum(np.square(X.dot(theta) - y)) is the cost function for linear regression.\n",
        "# It calculates the mean squared error (MSE) between the predicted values and the actual target values.\n",
        "# Here's a breakdown of the different parts of this expression:\n",
        "# m is the number of training examples\n",
        "# X is the input feature matrix, with dimensions (m, n) where m is the number of training examples and n is the number of features\n",
        "# theta is the parameter vector, with dimensions (n, 1) where n is the number of features\n",
        "# y is the target vector, with dimensions (m, 1) where m is the number of training examples\n",
        "# X.dot(theta) calculates the predicted values for all training examples, with dimensions (m, 1)\n",
        "# X.dot(theta) - y calculates the difference between the predicted values and the actual target values, with dimensions (m, 1)\n",
        "# np.square(X.dot(theta) - y) squares each element of the difference vector, with dimensions (m, 1)\n",
        "# np.sum(np.square(X.dot(theta) - y)) calculates the sum of the squared differences over all training examples\n",
        "# (1/(2*m)) scales the sum by a constant factor to obtain the mean squared error (MSE)\n",
        "#----------------------------------------------------------------------------------\n",
        "\n",
        "# Gradient descent algorithm\n",
        "def gradient_descent(X, y, theta, alpha, num_iters):\n",
        "  m = len(y)\n",
        "  J_history = np.zeros(num_iters)\n",
        "  for i in range(num_iters):\n",
        "    theta = theta - (alpha/m) * X.T.dot(X.dot(theta) - y)\n",
        "    J_history[i] = compute_cost(X, y, theta)\n",
        "  return theta, J_history\n",
        "\n",
        "# Here's a breakdown of the different parts of this function:\n",
        "# X is the input feature matrix, with dimensions (m, n+1) where m is the number of training examples and n is the number of features (not counting the intercept term)\n",
        "# y is the target vector, with dimensions (m, 1) where m is the number of training examples\n",
        "# theta is the parameter vector, with dimensions (n+1, 1) where n is the number of features (not counting the intercept term)\n",
        "# alpha is the learning rate, which controls the step size of the parameter updates\n",
        "# num_iters is the number of iterations to run the algorithm for\n",
        "# m is the number of training examples\n",
        "# J_history is a vector that stores the value of the cost function for each iteration\n",
        "# X.T.dot(X.dot(theta) - y) calculates the gradient of the cost function with respect to the parameters theta, with dimensions (n+1, 1)\n",
        "# theta - (alpha/m) * X.T.dot(X.dot(theta) - y) updates the parameters theta by taking a step in the direction of the negative gradient, with dimensions (n+1, 1)\n",
        "# compute_cost(X, y, theta) calculates the value of the cost function using the updated parameters theta\n",
        "# return theta, J_history returns the final parameter values and a vector containing the value of the cost function for each iteration.\n",
        "# Run gradient descent\n",
        "alpha = 0.01\n",
        "num_iters = 1000\n",
        "theta, J_history = gradient_descent(X_train, y_train, theta, alpha, num_iters)\n",
        "\n",
        "# Make predictions on the test set\n",
        "y_pred = X_test.dot(theta)\n",
        "\n",
        "# Compute the R-squared score\n",
        "r_squared = r2_score(y_test, y_pred)\n",
        "print('R-squared:', r_squared)\n",
        "\n"
      ],
      "metadata": {
        "colab": {
          "base_uri": "https://localhost:8080/"
        },
        "id": "3ijW4b9OjJYk",
        "outputId": "a8c7cbb6-cb50-4f41-ebd2-96b06c8d335c"
      },
      "execution_count": 21,
      "outputs": [
        {
          "output_type": "stream",
          "name": "stdout",
          "text": [
            "(1704, 1)\n",
            "R-squared: 0.5870521483962227\n"
          ]
        }
      ]
    },
    {
      "cell_type": "code",
      "source": [
        "from keras.models import Sequential\n",
        "from keras.layers import Dense, SimpleRNN\n",
        "from sklearn.metrics import r2_score\n",
        "from sklearn.model_selection import train_test_split\n",
        "from sklearn.preprocessing import StandardScaler\n",
        "\n",
        "scaler = StandardScaler()\n",
        "X_train_scaled = scaler.fit_transform(X_train)\n",
        "X_test_scaled = scaler.transform(X_test)\n",
        "\n",
        "X_train_reshaped = X_train_scaled.reshape((X_train_scaled.shape[0], 1, X_train_scaled.shape[1]))\n",
        "X_test_reshaped = X_test_scaled.reshape((X_test_scaled.shape[0], 1, X_test_scaled.shape[1]))\n",
        "\n",
        "model = Sequential()\n",
        "model.add(SimpleRNN(units=64, activation='relu', input_shape=(1, X_train_scaled.shape[1])))\n",
        "model.add(Dense(units=1, activation='linear'))\n",
        "\n",
        "model.compile(loss='mean_squared_error', optimizer='adam')\n",
        "\n",
        "model.fit(X_train_reshaped, y_train, epochs=50, batch_size=32, verbose=0)\n",
        "\n",
        "y_pred = model.predict(X_test_reshaped)\n",
        "\n",
        "r_squared = r2_score(y_test, y_pred)\n",
        "\n",
        "print('R-squared (with RNN regression):', r_squared)"
      ],
      "metadata": {
        "colab": {
          "base_uri": "https://localhost:8080/"
        },
        "id": "f3zbr4SXhexa",
        "outputId": "6adfa7cd-b681-4689-8263-05abcb00cc53"
      },
      "execution_count": 22,
      "outputs": [
        {
          "output_type": "stream",
          "name": "stdout",
          "text": [
            "54/54 [==============================] - 0s 3ms/step\n",
            "R-squared (with RNN regression): 0.6222759965755538\n"
          ]
        }
      ]
    },
    {
      "cell_type": "markdown",
      "source": [
        "Data needs more preprocessing"
      ],
      "metadata": {
        "id": "AKS6UgQ4kKvn"
      }
    }
  ]
}